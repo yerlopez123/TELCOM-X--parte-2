{
  "nbformat": 4,
  "nbformat_minor": 0,
  "metadata": {
    "colab": {
      "provenance": [],
      "include_colab_link": true
    },
    "kernelspec": {
      "name": "python3",
      "display_name": "Python 3"
    },
    "language_info": {
      "name": "python"
    }
  },
  "cells": [
    {
      "cell_type": "markdown",
      "metadata": {
        "id": "view-in-github",
        "colab_type": "text"
      },
      "source": [
        "<a href=\"https://colab.research.google.com/github/yerlopez123/TELCOM-X--parte-2/blob/main/TelecomX_LATAM.ipynb\" target=\"_parent\"><img src=\"https://colab.research.google.com/assets/colab-badge.svg\" alt=\"Open In Colab\"/></a>"
      ]
    },
    {
      "cell_type": "markdown",
      "source": [
        "\n",
        "\n",
        "#📌🛠️ Preparación de los Datos\n"
      ],
      "metadata": {
        "id": "4foVEKhrlqcH"
      }
    },
    {
      "cell_type": "code",
      "source": [
        "import pandas as pd\n",
        "import json\n",
        "\n",
        "# Subir el archivo desde tu máquina\n",
        "from google.colab import files\n",
        "uploaded = files.upload()\n",
        "\n",
        "# Cargar el archivo JSON\n",
        "with open('TelecomX_Data.json', 'r', encoding='utf-8') as file:\n",
        "    data = json.load(file)\n",
        "\n",
        "# Convertir a DataFrame\n",
        "df = pd.DataFrame(data)\n",
        "\n",
        "# Vista previa\n",
        "df.head()"
      ],
      "metadata": {
        "id": "1--uPM88l7JH",
        "colab": {
          "base_uri": "https://localhost:8080/",
          "height": 262
        },
        "outputId": "011622cf-6aee-44af-9acd-0c971345e841"
      },
      "execution_count": 2,
      "outputs": [
        {
          "output_type": "display_data",
          "data": {
            "text/plain": [
              "<IPython.core.display.HTML object>"
            ],
            "text/html": [
              "\n",
              "     <input type=\"file\" id=\"files-82df4f41-c893-48db-8ea9-c6a91cfabc32\" name=\"files[]\" multiple disabled\n",
              "        style=\"border:none\" />\n",
              "     <output id=\"result-82df4f41-c893-48db-8ea9-c6a91cfabc32\">\n",
              "      Upload widget is only available when the cell has been executed in the\n",
              "      current browser session. Please rerun this cell to enable.\n",
              "      </output>\n",
              "      <script>// Copyright 2017 Google LLC\n",
              "//\n",
              "// Licensed under the Apache License, Version 2.0 (the \"License\");\n",
              "// you may not use this file except in compliance with the License.\n",
              "// You may obtain a copy of the License at\n",
              "//\n",
              "//      http://www.apache.org/licenses/LICENSE-2.0\n",
              "//\n",
              "// Unless required by applicable law or agreed to in writing, software\n",
              "// distributed under the License is distributed on an \"AS IS\" BASIS,\n",
              "// WITHOUT WARRANTIES OR CONDITIONS OF ANY KIND, either express or implied.\n",
              "// See the License for the specific language governing permissions and\n",
              "// limitations under the License.\n",
              "\n",
              "/**\n",
              " * @fileoverview Helpers for google.colab Python module.\n",
              " */\n",
              "(function(scope) {\n",
              "function span(text, styleAttributes = {}) {\n",
              "  const element = document.createElement('span');\n",
              "  element.textContent = text;\n",
              "  for (const key of Object.keys(styleAttributes)) {\n",
              "    element.style[key] = styleAttributes[key];\n",
              "  }\n",
              "  return element;\n",
              "}\n",
              "\n",
              "// Max number of bytes which will be uploaded at a time.\n",
              "const MAX_PAYLOAD_SIZE = 100 * 1024;\n",
              "\n",
              "function _uploadFiles(inputId, outputId) {\n",
              "  const steps = uploadFilesStep(inputId, outputId);\n",
              "  const outputElement = document.getElementById(outputId);\n",
              "  // Cache steps on the outputElement to make it available for the next call\n",
              "  // to uploadFilesContinue from Python.\n",
              "  outputElement.steps = steps;\n",
              "\n",
              "  return _uploadFilesContinue(outputId);\n",
              "}\n",
              "\n",
              "// This is roughly an async generator (not supported in the browser yet),\n",
              "// where there are multiple asynchronous steps and the Python side is going\n",
              "// to poll for completion of each step.\n",
              "// This uses a Promise to block the python side on completion of each step,\n",
              "// then passes the result of the previous step as the input to the next step.\n",
              "function _uploadFilesContinue(outputId) {\n",
              "  const outputElement = document.getElementById(outputId);\n",
              "  const steps = outputElement.steps;\n",
              "\n",
              "  const next = steps.next(outputElement.lastPromiseValue);\n",
              "  return Promise.resolve(next.value.promise).then((value) => {\n",
              "    // Cache the last promise value to make it available to the next\n",
              "    // step of the generator.\n",
              "    outputElement.lastPromiseValue = value;\n",
              "    return next.value.response;\n",
              "  });\n",
              "}\n",
              "\n",
              "/**\n",
              " * Generator function which is called between each async step of the upload\n",
              " * process.\n",
              " * @param {string} inputId Element ID of the input file picker element.\n",
              " * @param {string} outputId Element ID of the output display.\n",
              " * @return {!Iterable<!Object>} Iterable of next steps.\n",
              " */\n",
              "function* uploadFilesStep(inputId, outputId) {\n",
              "  const inputElement = document.getElementById(inputId);\n",
              "  inputElement.disabled = false;\n",
              "\n",
              "  const outputElement = document.getElementById(outputId);\n",
              "  outputElement.innerHTML = '';\n",
              "\n",
              "  const pickedPromise = new Promise((resolve) => {\n",
              "    inputElement.addEventListener('change', (e) => {\n",
              "      resolve(e.target.files);\n",
              "    });\n",
              "  });\n",
              "\n",
              "  const cancel = document.createElement('button');\n",
              "  inputElement.parentElement.appendChild(cancel);\n",
              "  cancel.textContent = 'Cancel upload';\n",
              "  const cancelPromise = new Promise((resolve) => {\n",
              "    cancel.onclick = () => {\n",
              "      resolve(null);\n",
              "    };\n",
              "  });\n",
              "\n",
              "  // Wait for the user to pick the files.\n",
              "  const files = yield {\n",
              "    promise: Promise.race([pickedPromise, cancelPromise]),\n",
              "    response: {\n",
              "      action: 'starting',\n",
              "    }\n",
              "  };\n",
              "\n",
              "  cancel.remove();\n",
              "\n",
              "  // Disable the input element since further picks are not allowed.\n",
              "  inputElement.disabled = true;\n",
              "\n",
              "  if (!files) {\n",
              "    return {\n",
              "      response: {\n",
              "        action: 'complete',\n",
              "      }\n",
              "    };\n",
              "  }\n",
              "\n",
              "  for (const file of files) {\n",
              "    const li = document.createElement('li');\n",
              "    li.append(span(file.name, {fontWeight: 'bold'}));\n",
              "    li.append(span(\n",
              "        `(${file.type || 'n/a'}) - ${file.size} bytes, ` +\n",
              "        `last modified: ${\n",
              "            file.lastModifiedDate ? file.lastModifiedDate.toLocaleDateString() :\n",
              "                                    'n/a'} - `));\n",
              "    const percent = span('0% done');\n",
              "    li.appendChild(percent);\n",
              "\n",
              "    outputElement.appendChild(li);\n",
              "\n",
              "    const fileDataPromise = new Promise((resolve) => {\n",
              "      const reader = new FileReader();\n",
              "      reader.onload = (e) => {\n",
              "        resolve(e.target.result);\n",
              "      };\n",
              "      reader.readAsArrayBuffer(file);\n",
              "    });\n",
              "    // Wait for the data to be ready.\n",
              "    let fileData = yield {\n",
              "      promise: fileDataPromise,\n",
              "      response: {\n",
              "        action: 'continue',\n",
              "      }\n",
              "    };\n",
              "\n",
              "    // Use a chunked sending to avoid message size limits. See b/62115660.\n",
              "    let position = 0;\n",
              "    do {\n",
              "      const length = Math.min(fileData.byteLength - position, MAX_PAYLOAD_SIZE);\n",
              "      const chunk = new Uint8Array(fileData, position, length);\n",
              "      position += length;\n",
              "\n",
              "      const base64 = btoa(String.fromCharCode.apply(null, chunk));\n",
              "      yield {\n",
              "        response: {\n",
              "          action: 'append',\n",
              "          file: file.name,\n",
              "          data: base64,\n",
              "        },\n",
              "      };\n",
              "\n",
              "      let percentDone = fileData.byteLength === 0 ?\n",
              "          100 :\n",
              "          Math.round((position / fileData.byteLength) * 100);\n",
              "      percent.textContent = `${percentDone}% done`;\n",
              "\n",
              "    } while (position < fileData.byteLength);\n",
              "  }\n",
              "\n",
              "  // All done.\n",
              "  yield {\n",
              "    response: {\n",
              "      action: 'complete',\n",
              "    }\n",
              "  };\n",
              "}\n",
              "\n",
              "scope.google = scope.google || {};\n",
              "scope.google.colab = scope.google.colab || {};\n",
              "scope.google.colab._files = {\n",
              "  _uploadFiles,\n",
              "  _uploadFilesContinue,\n",
              "};\n",
              "})(self);\n",
              "</script> "
            ]
          },
          "metadata": {}
        },
        {
          "output_type": "stream",
          "name": "stdout",
          "text": [
            "Saving TelecomX_Data.json to TelecomX_Data.json\n"
          ]
        },
        {
          "output_type": "execute_result",
          "data": {
            "text/plain": [
              "   customerID Churn                                           customer  \\\n",
              "0  0002-ORFBO    No  {'gender': 'Female', 'SeniorCitizen': 0, 'Part...   \n",
              "1  0003-MKNFE    No  {'gender': 'Male', 'SeniorCitizen': 0, 'Partne...   \n",
              "2  0004-TLHLJ   Yes  {'gender': 'Male', 'SeniorCitizen': 0, 'Partne...   \n",
              "3  0011-IGKFF   Yes  {'gender': 'Male', 'SeniorCitizen': 1, 'Partne...   \n",
              "4  0013-EXCHZ   Yes  {'gender': 'Female', 'SeniorCitizen': 1, 'Part...   \n",
              "\n",
              "                                             phone  \\\n",
              "0   {'PhoneService': 'Yes', 'MultipleLines': 'No'}   \n",
              "1  {'PhoneService': 'Yes', 'MultipleLines': 'Yes'}   \n",
              "2   {'PhoneService': 'Yes', 'MultipleLines': 'No'}   \n",
              "3   {'PhoneService': 'Yes', 'MultipleLines': 'No'}   \n",
              "4   {'PhoneService': 'Yes', 'MultipleLines': 'No'}   \n",
              "\n",
              "                                            internet  \\\n",
              "0  {'InternetService': 'DSL', 'OnlineSecurity': '...   \n",
              "1  {'InternetService': 'DSL', 'OnlineSecurity': '...   \n",
              "2  {'InternetService': 'Fiber optic', 'OnlineSecu...   \n",
              "3  {'InternetService': 'Fiber optic', 'OnlineSecu...   \n",
              "4  {'InternetService': 'Fiber optic', 'OnlineSecu...   \n",
              "\n",
              "                                             account  \n",
              "0  {'Contract': 'One year', 'PaperlessBilling': '...  \n",
              "1  {'Contract': 'Month-to-month', 'PaperlessBilli...  \n",
              "2  {'Contract': 'Month-to-month', 'PaperlessBilli...  \n",
              "3  {'Contract': 'Month-to-month', 'PaperlessBilli...  \n",
              "4  {'Contract': 'Month-to-month', 'PaperlessBilli...  "
            ],
            "text/html": [
              "\n",
              "  <div id=\"df-b3725c50-fda2-408a-ace9-97aaded8e66e\" class=\"colab-df-container\">\n",
              "    <div>\n",
              "<style scoped>\n",
              "    .dataframe tbody tr th:only-of-type {\n",
              "        vertical-align: middle;\n",
              "    }\n",
              "\n",
              "    .dataframe tbody tr th {\n",
              "        vertical-align: top;\n",
              "    }\n",
              "\n",
              "    .dataframe thead th {\n",
              "        text-align: right;\n",
              "    }\n",
              "</style>\n",
              "<table border=\"1\" class=\"dataframe\">\n",
              "  <thead>\n",
              "    <tr style=\"text-align: right;\">\n",
              "      <th></th>\n",
              "      <th>customerID</th>\n",
              "      <th>Churn</th>\n",
              "      <th>customer</th>\n",
              "      <th>phone</th>\n",
              "      <th>internet</th>\n",
              "      <th>account</th>\n",
              "    </tr>\n",
              "  </thead>\n",
              "  <tbody>\n",
              "    <tr>\n",
              "      <th>0</th>\n",
              "      <td>0002-ORFBO</td>\n",
              "      <td>No</td>\n",
              "      <td>{'gender': 'Female', 'SeniorCitizen': 0, 'Part...</td>\n",
              "      <td>{'PhoneService': 'Yes', 'MultipleLines': 'No'}</td>\n",
              "      <td>{'InternetService': 'DSL', 'OnlineSecurity': '...</td>\n",
              "      <td>{'Contract': 'One year', 'PaperlessBilling': '...</td>\n",
              "    </tr>\n",
              "    <tr>\n",
              "      <th>1</th>\n",
              "      <td>0003-MKNFE</td>\n",
              "      <td>No</td>\n",
              "      <td>{'gender': 'Male', 'SeniorCitizen': 0, 'Partne...</td>\n",
              "      <td>{'PhoneService': 'Yes', 'MultipleLines': 'Yes'}</td>\n",
              "      <td>{'InternetService': 'DSL', 'OnlineSecurity': '...</td>\n",
              "      <td>{'Contract': 'Month-to-month', 'PaperlessBilli...</td>\n",
              "    </tr>\n",
              "    <tr>\n",
              "      <th>2</th>\n",
              "      <td>0004-TLHLJ</td>\n",
              "      <td>Yes</td>\n",
              "      <td>{'gender': 'Male', 'SeniorCitizen': 0, 'Partne...</td>\n",
              "      <td>{'PhoneService': 'Yes', 'MultipleLines': 'No'}</td>\n",
              "      <td>{'InternetService': 'Fiber optic', 'OnlineSecu...</td>\n",
              "      <td>{'Contract': 'Month-to-month', 'PaperlessBilli...</td>\n",
              "    </tr>\n",
              "    <tr>\n",
              "      <th>3</th>\n",
              "      <td>0011-IGKFF</td>\n",
              "      <td>Yes</td>\n",
              "      <td>{'gender': 'Male', 'SeniorCitizen': 1, 'Partne...</td>\n",
              "      <td>{'PhoneService': 'Yes', 'MultipleLines': 'No'}</td>\n",
              "      <td>{'InternetService': 'Fiber optic', 'OnlineSecu...</td>\n",
              "      <td>{'Contract': 'Month-to-month', 'PaperlessBilli...</td>\n",
              "    </tr>\n",
              "    <tr>\n",
              "      <th>4</th>\n",
              "      <td>0013-EXCHZ</td>\n",
              "      <td>Yes</td>\n",
              "      <td>{'gender': 'Female', 'SeniorCitizen': 1, 'Part...</td>\n",
              "      <td>{'PhoneService': 'Yes', 'MultipleLines': 'No'}</td>\n",
              "      <td>{'InternetService': 'Fiber optic', 'OnlineSecu...</td>\n",
              "      <td>{'Contract': 'Month-to-month', 'PaperlessBilli...</td>\n",
              "    </tr>\n",
              "  </tbody>\n",
              "</table>\n",
              "</div>\n",
              "    <div class=\"colab-df-buttons\">\n",
              "\n",
              "  <div class=\"colab-df-container\">\n",
              "    <button class=\"colab-df-convert\" onclick=\"convertToInteractive('df-b3725c50-fda2-408a-ace9-97aaded8e66e')\"\n",
              "            title=\"Convert this dataframe to an interactive table.\"\n",
              "            style=\"display:none;\">\n",
              "\n",
              "  <svg xmlns=\"http://www.w3.org/2000/svg\" height=\"24px\" viewBox=\"0 -960 960 960\">\n",
              "    <path d=\"M120-120v-720h720v720H120Zm60-500h600v-160H180v160Zm220 220h160v-160H400v160Zm0 220h160v-160H400v160ZM180-400h160v-160H180v160Zm440 0h160v-160H620v160ZM180-180h160v-160H180v160Zm440 0h160v-160H620v160Z\"/>\n",
              "  </svg>\n",
              "    </button>\n",
              "\n",
              "  <style>\n",
              "    .colab-df-container {\n",
              "      display:flex;\n",
              "      gap: 12px;\n",
              "    }\n",
              "\n",
              "    .colab-df-convert {\n",
              "      background-color: #E8F0FE;\n",
              "      border: none;\n",
              "      border-radius: 50%;\n",
              "      cursor: pointer;\n",
              "      display: none;\n",
              "      fill: #1967D2;\n",
              "      height: 32px;\n",
              "      padding: 0 0 0 0;\n",
              "      width: 32px;\n",
              "    }\n",
              "\n",
              "    .colab-df-convert:hover {\n",
              "      background-color: #E2EBFA;\n",
              "      box-shadow: 0px 1px 2px rgba(60, 64, 67, 0.3), 0px 1px 3px 1px rgba(60, 64, 67, 0.15);\n",
              "      fill: #174EA6;\n",
              "    }\n",
              "\n",
              "    .colab-df-buttons div {\n",
              "      margin-bottom: 4px;\n",
              "    }\n",
              "\n",
              "    [theme=dark] .colab-df-convert {\n",
              "      background-color: #3B4455;\n",
              "      fill: #D2E3FC;\n",
              "    }\n",
              "\n",
              "    [theme=dark] .colab-df-convert:hover {\n",
              "      background-color: #434B5C;\n",
              "      box-shadow: 0px 1px 3px 1px rgba(0, 0, 0, 0.15);\n",
              "      filter: drop-shadow(0px 1px 2px rgba(0, 0, 0, 0.3));\n",
              "      fill: #FFFFFF;\n",
              "    }\n",
              "  </style>\n",
              "\n",
              "    <script>\n",
              "      const buttonEl =\n",
              "        document.querySelector('#df-b3725c50-fda2-408a-ace9-97aaded8e66e button.colab-df-convert');\n",
              "      buttonEl.style.display =\n",
              "        google.colab.kernel.accessAllowed ? 'block' : 'none';\n",
              "\n",
              "      async function convertToInteractive(key) {\n",
              "        const element = document.querySelector('#df-b3725c50-fda2-408a-ace9-97aaded8e66e');\n",
              "        const dataTable =\n",
              "          await google.colab.kernel.invokeFunction('convertToInteractive',\n",
              "                                                    [key], {});\n",
              "        if (!dataTable) return;\n",
              "\n",
              "        const docLinkHtml = 'Like what you see? Visit the ' +\n",
              "          '<a target=\"_blank\" href=https://colab.research.google.com/notebooks/data_table.ipynb>data table notebook</a>'\n",
              "          + ' to learn more about interactive tables.';\n",
              "        element.innerHTML = '';\n",
              "        dataTable['output_type'] = 'display_data';\n",
              "        await google.colab.output.renderOutput(dataTable, element);\n",
              "        const docLink = document.createElement('div');\n",
              "        docLink.innerHTML = docLinkHtml;\n",
              "        element.appendChild(docLink);\n",
              "      }\n",
              "    </script>\n",
              "  </div>\n",
              "\n",
              "\n",
              "    <div id=\"df-5e44baa5-b2d1-4913-8d18-a3a63fa258a1\">\n",
              "      <button class=\"colab-df-quickchart\" onclick=\"quickchart('df-5e44baa5-b2d1-4913-8d18-a3a63fa258a1')\"\n",
              "                title=\"Suggest charts\"\n",
              "                style=\"display:none;\">\n",
              "\n",
              "<svg xmlns=\"http://www.w3.org/2000/svg\" height=\"24px\"viewBox=\"0 0 24 24\"\n",
              "     width=\"24px\">\n",
              "    <g>\n",
              "        <path d=\"M19 3H5c-1.1 0-2 .9-2 2v14c0 1.1.9 2 2 2h14c1.1 0 2-.9 2-2V5c0-1.1-.9-2-2-2zM9 17H7v-7h2v7zm4 0h-2V7h2v10zm4 0h-2v-4h2v4z\"/>\n",
              "    </g>\n",
              "</svg>\n",
              "      </button>\n",
              "\n",
              "<style>\n",
              "  .colab-df-quickchart {\n",
              "      --bg-color: #E8F0FE;\n",
              "      --fill-color: #1967D2;\n",
              "      --hover-bg-color: #E2EBFA;\n",
              "      --hover-fill-color: #174EA6;\n",
              "      --disabled-fill-color: #AAA;\n",
              "      --disabled-bg-color: #DDD;\n",
              "  }\n",
              "\n",
              "  [theme=dark] .colab-df-quickchart {\n",
              "      --bg-color: #3B4455;\n",
              "      --fill-color: #D2E3FC;\n",
              "      --hover-bg-color: #434B5C;\n",
              "      --hover-fill-color: #FFFFFF;\n",
              "      --disabled-bg-color: #3B4455;\n",
              "      --disabled-fill-color: #666;\n",
              "  }\n",
              "\n",
              "  .colab-df-quickchart {\n",
              "    background-color: var(--bg-color);\n",
              "    border: none;\n",
              "    border-radius: 50%;\n",
              "    cursor: pointer;\n",
              "    display: none;\n",
              "    fill: var(--fill-color);\n",
              "    height: 32px;\n",
              "    padding: 0;\n",
              "    width: 32px;\n",
              "  }\n",
              "\n",
              "  .colab-df-quickchart:hover {\n",
              "    background-color: var(--hover-bg-color);\n",
              "    box-shadow: 0 1px 2px rgba(60, 64, 67, 0.3), 0 1px 3px 1px rgba(60, 64, 67, 0.15);\n",
              "    fill: var(--button-hover-fill-color);\n",
              "  }\n",
              "\n",
              "  .colab-df-quickchart-complete:disabled,\n",
              "  .colab-df-quickchart-complete:disabled:hover {\n",
              "    background-color: var(--disabled-bg-color);\n",
              "    fill: var(--disabled-fill-color);\n",
              "    box-shadow: none;\n",
              "  }\n",
              "\n",
              "  .colab-df-spinner {\n",
              "    border: 2px solid var(--fill-color);\n",
              "    border-color: transparent;\n",
              "    border-bottom-color: var(--fill-color);\n",
              "    animation:\n",
              "      spin 1s steps(1) infinite;\n",
              "  }\n",
              "\n",
              "  @keyframes spin {\n",
              "    0% {\n",
              "      border-color: transparent;\n",
              "      border-bottom-color: var(--fill-color);\n",
              "      border-left-color: var(--fill-color);\n",
              "    }\n",
              "    20% {\n",
              "      border-color: transparent;\n",
              "      border-left-color: var(--fill-color);\n",
              "      border-top-color: var(--fill-color);\n",
              "    }\n",
              "    30% {\n",
              "      border-color: transparent;\n",
              "      border-left-color: var(--fill-color);\n",
              "      border-top-color: var(--fill-color);\n",
              "      border-right-color: var(--fill-color);\n",
              "    }\n",
              "    40% {\n",
              "      border-color: transparent;\n",
              "      border-right-color: var(--fill-color);\n",
              "      border-top-color: var(--fill-color);\n",
              "    }\n",
              "    60% {\n",
              "      border-color: transparent;\n",
              "      border-right-color: var(--fill-color);\n",
              "    }\n",
              "    80% {\n",
              "      border-color: transparent;\n",
              "      border-right-color: var(--fill-color);\n",
              "      border-bottom-color: var(--fill-color);\n",
              "    }\n",
              "    90% {\n",
              "      border-color: transparent;\n",
              "      border-bottom-color: var(--fill-color);\n",
              "    }\n",
              "  }\n",
              "</style>\n",
              "\n",
              "      <script>\n",
              "        async function quickchart(key) {\n",
              "          const quickchartButtonEl =\n",
              "            document.querySelector('#' + key + ' button');\n",
              "          quickchartButtonEl.disabled = true;  // To prevent multiple clicks.\n",
              "          quickchartButtonEl.classList.add('colab-df-spinner');\n",
              "          try {\n",
              "            const charts = await google.colab.kernel.invokeFunction(\n",
              "                'suggestCharts', [key], {});\n",
              "          } catch (error) {\n",
              "            console.error('Error during call to suggestCharts:', error);\n",
              "          }\n",
              "          quickchartButtonEl.classList.remove('colab-df-spinner');\n",
              "          quickchartButtonEl.classList.add('colab-df-quickchart-complete');\n",
              "        }\n",
              "        (() => {\n",
              "          let quickchartButtonEl =\n",
              "            document.querySelector('#df-5e44baa5-b2d1-4913-8d18-a3a63fa258a1 button');\n",
              "          quickchartButtonEl.style.display =\n",
              "            google.colab.kernel.accessAllowed ? 'block' : 'none';\n",
              "        })();\n",
              "      </script>\n",
              "    </div>\n",
              "\n",
              "    </div>\n",
              "  </div>\n"
            ],
            "application/vnd.google.colaboratory.intrinsic+json": {
              "type": "dataframe",
              "variable_name": "df",
              "summary": "{\n  \"name\": \"df\",\n  \"rows\": 7267,\n  \"fields\": [\n    {\n      \"column\": \"customerID\",\n      \"properties\": {\n        \"dtype\": \"string\",\n        \"num_unique_values\": 7267,\n        \"samples\": [\n          \"2038-OEQZH\",\n          \"6322-HRPFA\",\n          \"3969-JQABI\"\n        ],\n        \"semantic_type\": \"\",\n        \"description\": \"\"\n      }\n    },\n    {\n      \"column\": \"Churn\",\n      \"properties\": {\n        \"dtype\": \"category\",\n        \"num_unique_values\": 3,\n        \"samples\": [\n          \"No\",\n          \"Yes\",\n          \"\"\n        ],\n        \"semantic_type\": \"\",\n        \"description\": \"\"\n      }\n    },\n    {\n      \"column\": \"customer\",\n      \"properties\": {\n        \"dtype\": \"object\",\n        \"semantic_type\": \"\",\n        \"description\": \"\"\n      }\n    },\n    {\n      \"column\": \"phone\",\n      \"properties\": {\n        \"dtype\": \"object\",\n        \"semantic_type\": \"\",\n        \"description\": \"\"\n      }\n    },\n    {\n      \"column\": \"internet\",\n      \"properties\": {\n        \"dtype\": \"object\",\n        \"semantic_type\": \"\",\n        \"description\": \"\"\n      }\n    },\n    {\n      \"column\": \"account\",\n      \"properties\": {\n        \"dtype\": \"object\",\n        \"semantic_type\": \"\",\n        \"description\": \"\"\n      }\n    }\n  ]\n}"
            }
          },
          "metadata": {},
          "execution_count": 2
        }
      ]
    },
    {
      "cell_type": "code",
      "source": [
        "# Ver columnas disponibles\n",
        "print(\"Columnas originales:\")\n",
        "print(df.columns.tolist())\n",
        "\n",
        "# Ver tipos de datos\n",
        "df.info()"
      ],
      "metadata": {
        "id": "bLIuzpjJfR39",
        "outputId": "cf78c51a-7658-49ad-996a-3b7d91a04dc5",
        "colab": {
          "base_uri": "https://localhost:8080/"
        }
      },
      "execution_count": 3,
      "outputs": [
        {
          "output_type": "stream",
          "name": "stdout",
          "text": [
            "Columnas originales:\n",
            "['customerID', 'Churn', 'customer', 'phone', 'internet', 'account']\n",
            "<class 'pandas.core.frame.DataFrame'>\n",
            "RangeIndex: 7267 entries, 0 to 7266\n",
            "Data columns (total 6 columns):\n",
            " #   Column      Non-Null Count  Dtype \n",
            "---  ------      --------------  ----- \n",
            " 0   customerID  7267 non-null   object\n",
            " 1   Churn       7267 non-null   object\n",
            " 2   customer    7267 non-null   object\n",
            " 3   phone       7267 non-null   object\n",
            " 4   internet    7267 non-null   object\n",
            " 5   account     7267 non-null   object\n",
            "dtypes: object(6)\n",
            "memory usage: 340.8+ KB\n"
          ]
        }
      ]
    },
    {
      "cell_type": "code",
      "source": [
        "print(\"🔍 Columnas disponibles en el DataFrame:\")\n",
        "print(df.columns.tolist())"
      ],
      "metadata": {
        "id": "ssNWTSD1fR_y",
        "outputId": "875a4730-89b8-4702-adae-bee174b85778",
        "colab": {
          "base_uri": "https://localhost:8080/"
        }
      },
      "execution_count": 5,
      "outputs": [
        {
          "output_type": "stream",
          "name": "stdout",
          "text": [
            "🔍 Columnas disponibles en el DataFrame:\n",
            "['customerid', 'churn', 'customer', 'phone', 'internet', 'account']\n"
          ]
        }
      ]
    },
    {
      "cell_type": "code",
      "source": [
        "# Expandir columnas anidadas si son diccionarios\n",
        "df_exp = pd.concat([\n",
        "    df['customerid'],\n",
        "    df['churn'],\n",
        "    df['customer'].apply(pd.Series),\n",
        "    df['phone'].apply(pd.Series),\n",
        "    df['internet'].apply(pd.Series),\n",
        "    df['account'].apply(pd.Series)\n",
        "], axis=1)\n",
        "\n",
        "# Verificar las nuevas columnas\n",
        "print(\"🧩 Columnas después de expandir:\")\n",
        "print(df_exp.columns.tolist())"
      ],
      "metadata": {
        "id": "exdqhDdSfSC5",
        "outputId": "ff337bf4-557a-4a1e-a67a-8d62804a32c6",
        "colab": {
          "base_uri": "https://localhost:8080/"
        }
      },
      "execution_count": 8,
      "outputs": [
        {
          "output_type": "stream",
          "name": "stdout",
          "text": [
            "🧩 Columnas después de expandir:\n",
            "['customerid', 'churn', 'gender', 'SeniorCitizen', 'Partner', 'Dependents', 'tenure', 'PhoneService', 'MultipleLines', 'InternetService', 'OnlineSecurity', 'OnlineBackup', 'DeviceProtection', 'TechSupport', 'StreamingTV', 'StreamingMovies', 'Contract', 'PaperlessBilling', 'PaymentMethod', 'Charges']\n"
          ]
        }
      ]
    },
    {
      "cell_type": "code",
      "source": [
        "df.columns = df.columns.str.strip().str.lower()"
      ],
      "metadata": {
        "id": "eGeDmRQFgHPG"
      },
      "execution_count": 10,
      "outputs": []
    },
    {
      "cell_type": "code",
      "source": [
        "print(\"🔍 Columnas disponibles en df_exp:\")\n",
        "print(df_exp.columns.tolist())"
      ],
      "metadata": {
        "id": "UeU0AUeEgHSi",
        "outputId": "14082db2-bb09-4fe2-89cd-c6124989bd13",
        "colab": {
          "base_uri": "https://localhost:8080/"
        }
      },
      "execution_count": 14,
      "outputs": [
        {
          "output_type": "stream",
          "name": "stdout",
          "text": [
            "🔍 Columnas disponibles en df_exp:\n",
            "['customerid', 'churn', 'gender', 'SeniorCitizen', 'Partner', 'Dependents', 'tenure', 'PhoneService', 'MultipleLines', 'InternetService', 'OnlineSecurity', 'OnlineBackup', 'DeviceProtection', 'TechSupport', 'StreamingTV', 'StreamingMovies', 'Contract', 'PaperlessBilling', 'PaymentMethod', 'Charges']\n"
          ]
        }
      ]
    },
    {
      "cell_type": "code",
      "source": [
        "columnas_relevantes = [\n",
        "    'customerid', 'churn', 'gender', 'seniorcitizen', 'partner', 'dependents',\n",
        "    'tenure', 'phoneservice', 'multiplelines', 'internetservice',\n",
        "    'onlinesecurity', 'onlinebackup', 'deviceprotection', 'techsupport',\n",
        "    'streamingtv', 'streamingmovies', 'contract', 'paperlessbilling',\n",
        "    'paymentmethod', 'charges'  # Ajusta según el nombre real\n",
        "]"
      ],
      "metadata": {
        "id": "JSs9DzxigHVV"
      },
      "execution_count": 15,
      "outputs": []
    },
    {
      "cell_type": "code",
      "source": [
        "# Normalizar nombres: minúsculas y guiones bajos\n",
        "df_exp.columns = df_exp.columns.str.strip().str.lower().str.replace(' ', '_')\n"
      ],
      "metadata": {
        "id": "0mg_1hUSgHXi"
      },
      "execution_count": 20,
      "outputs": []
    },
    {
      "cell_type": "code",
      "source": [
        "columnas_relevantes = [\n",
        "    'customerid', 'churn', 'gender', 'seniorcitizen', 'partner', 'dependents',\n",
        "    'tenure', 'phoneservice', 'multiplelines', 'internetservice',\n",
        "    'onlinesecurity', 'onlinebackup', 'deviceprotection', 'techsupport',\n",
        "    'streamingtv', 'streamingmovies', 'contract', 'paperlessbilling',\n",
        "    'paymentmethod', 'charges'\n",
        "]\n",
        "\n",
        "df_limpio = df_exp[columnas_relevantes].copy()"
      ],
      "metadata": {
        "id": "mgELoqzcgHaV"
      },
      "execution_count": 21,
      "outputs": []
    },
    {
      "cell_type": "code",
      "source": [
        "# Normalizar texto\n",
        "for col in df_limpio.select_dtypes(include='object').columns:\n",
        "    df_limpio[col] = df_limpio[col].astype(str).str.strip().str.lower()\n",
        "\n",
        "# Convertir numéricos\n",
        "df_limpio['charges'] = pd.to_numeric(df_limpio['charges'], errors='coerce')\n",
        "df_limpio['tenure'] = pd.to_numeric(df_limpio['tenure'], errors='coerce')\n",
        "df_limpio['seniorcitizen'] = pd.to_numeric(df_limpio['seniorcitizen'], errors='coerce')\n",
        "\n",
        "# Eliminar nulos\n",
        "df_limpio = df_limpio.dropna()"
      ],
      "metadata": {
        "id": "6h86LMLYgHdD"
      },
      "execution_count": 22,
      "outputs": []
    },
    {
      "cell_type": "code",
      "source": [
        "df_limpio.to_csv('telecomx_datos_limpios.csv', index=False)\n",
        "print(\"✅ Archivo limpio guardado como telecomx_datos_limpios.csv\")"
      ],
      "metadata": {
        "id": "Kr8Gqf3igHfL",
        "outputId": "af094261-d4a7-4ec3-b23c-108365d2fd01",
        "colab": {
          "base_uri": "https://localhost:8080/"
        }
      },
      "execution_count": 23,
      "outputs": [
        {
          "output_type": "stream",
          "name": "stdout",
          "text": [
            "✅ Archivo limpio guardado como telecomx_datos_limpios.csv\n"
          ]
        }
      ]
    },
    {
      "cell_type": "code",
      "source": [
        "# Eliminar columnas que no aportan valor al análisis\n",
        "df_limpio = df_limpio.drop(columns=['customerid'])"
      ],
      "metadata": {
        "id": "kMAimne2hGMk"
      },
      "execution_count": 24,
      "outputs": []
    },
    {
      "cell_type": "code",
      "source": [
        "# Aplicar one-hot encoding a todas las variables categóricas\n",
        "df_modelo = pd.get_dummies(df_limpio, drop_first=True)"
      ],
      "metadata": {
        "id": "oOG6AnwPhHd4"
      },
      "execution_count": 25,
      "outputs": []
    },
    {
      "cell_type": "code",
      "source": [
        "# Contar ocurrencias de cada clase\n",
        "conteo_churn = df_limpio['churn'].value_counts()\n",
        "\n",
        "# Calcular proporciones\n",
        "proporcion_churn = df_limpio['churn'].value_counts(normalize=True)\n",
        "\n",
        "# Mostrar resultados\n",
        "print(\"📈 Conteo de clases:\")\n",
        "print(conteo_churn)\n",
        "\n",
        "print(\"\\n📊 Proporción de clases:\")\n",
        "print(proporcion_churn)"
      ],
      "metadata": {
        "id": "ZufRh_2ohO7z",
        "outputId": "cd6442cb-e786-4fe4-db4d-f51f2c7007cc",
        "colab": {
          "base_uri": "https://localhost:8080/"
        }
      },
      "execution_count": 27,
      "outputs": [
        {
          "output_type": "stream",
          "name": "stdout",
          "text": [
            "📈 Conteo de clases:\n",
            "Series([], Name: count, dtype: int64)\n",
            "\n",
            "📊 Proporción de clases:\n",
            "Series([], Name: proportion, dtype: float64)\n"
          ]
        }
      ]
    },
    {
      "cell_type": "code",
      "source": [
        "print(df_modelo.columns.tolist())"
      ],
      "metadata": {
        "id": "EcaKzCgmhPAo",
        "outputId": "b2ad0380-82ae-45be-93b0-677bcd817883",
        "colab": {
          "base_uri": "https://localhost:8080/"
        }
      },
      "execution_count": 30,
      "outputs": [
        {
          "output_type": "stream",
          "name": "stdout",
          "text": [
            "['seniorcitizen', 'tenure', 'charges']\n"
          ]
        }
      ]
    },
    {
      "cell_type": "code",
      "source": [
        "# Codificar churn como binaria: 1 si canceló, 0 si no\n",
        "df_modelo['churn_bin'] = df_limpio['churn'].map({'yes': 1, 'no': 0})"
      ],
      "metadata": {
        "id": "uwPhn0ieh_d6"
      },
      "execution_count": 31,
      "outputs": []
    },
    {
      "cell_type": "code",
      "source": [
        "X = df_modelo.drop(columns=['churn_bin'])\n",
        "y = df_modelo['churn_bin']"
      ],
      "metadata": {
        "id": "a-8VRqqIhiIA"
      },
      "execution_count": 32,
      "outputs": []
    },
    {
      "cell_type": "code",
      "source": [
        "print(df.shape)\n",
        "print(df.head())\n",
        "print(df['churn'].value_counts(dropna=False))"
      ],
      "metadata": {
        "colab": {
          "base_uri": "https://localhost:8080/"
        },
        "id": "Nx2QDTHrhiKZ",
        "outputId": "c0405cfd-a043-4b31-d8e9-6dac6c67a7f6"
      },
      "execution_count": 38,
      "outputs": [
        {
          "output_type": "stream",
          "name": "stdout",
          "text": [
            "(7267, 6)\n",
            "   customerid churn                                           customer  \\\n",
            "0  0002-ORFBO    No  {'gender': 'Female', 'SeniorCitizen': 0, 'Part...   \n",
            "1  0003-MKNFE    No  {'gender': 'Male', 'SeniorCitizen': 0, 'Partne...   \n",
            "2  0004-TLHLJ   Yes  {'gender': 'Male', 'SeniorCitizen': 0, 'Partne...   \n",
            "3  0011-IGKFF   Yes  {'gender': 'Male', 'SeniorCitizen': 1, 'Partne...   \n",
            "4  0013-EXCHZ   Yes  {'gender': 'Female', 'SeniorCitizen': 1, 'Part...   \n",
            "\n",
            "                                             phone  \\\n",
            "0   {'PhoneService': 'Yes', 'MultipleLines': 'No'}   \n",
            "1  {'PhoneService': 'Yes', 'MultipleLines': 'Yes'}   \n",
            "2   {'PhoneService': 'Yes', 'MultipleLines': 'No'}   \n",
            "3   {'PhoneService': 'Yes', 'MultipleLines': 'No'}   \n",
            "4   {'PhoneService': 'Yes', 'MultipleLines': 'No'}   \n",
            "\n",
            "                                            internet  \\\n",
            "0  {'InternetService': 'DSL', 'OnlineSecurity': '...   \n",
            "1  {'InternetService': 'DSL', 'OnlineSecurity': '...   \n",
            "2  {'InternetService': 'Fiber optic', 'OnlineSecu...   \n",
            "3  {'InternetService': 'Fiber optic', 'OnlineSecu...   \n",
            "4  {'InternetService': 'Fiber optic', 'OnlineSecu...   \n",
            "\n",
            "                                             account  \n",
            "0  {'Contract': 'One year', 'PaperlessBilling': '...  \n",
            "1  {'Contract': 'Month-to-month', 'PaperlessBilli...  \n",
            "2  {'Contract': 'Month-to-month', 'PaperlessBilli...  \n",
            "3  {'Contract': 'Month-to-month', 'PaperlessBilli...  \n",
            "4  {'Contract': 'Month-to-month', 'PaperlessBilli...  \n",
            "churn\n",
            "No     5174\n",
            "Yes    1869\n",
            "        224\n",
            "Name: count, dtype: int64\n"
          ]
        }
      ]
    },
    {
      "cell_type": "code",
      "source": [
        "df = pd.read_csv('telecomx_datos_limpios.csv')\n"
      ],
      "metadata": {
        "id": "rtOIv-IIhiMl"
      },
      "execution_count": 44,
      "outputs": []
    },
    {
      "cell_type": "code",
      "source": [
        "print(df.shape)\n",
        "print(df.head())\n",
        "print(df['churn'].value_counts(dropna=False))"
      ],
      "metadata": {
        "outputId": "0ccf0ebf-5dee-439b-b61c-1fd5b6dd6c42",
        "colab": {
          "base_uri": "https://localhost:8080/"
        },
        "id": "j70VoOmWjegu"
      },
      "execution_count": 45,
      "outputs": [
        {
          "output_type": "stream",
          "name": "stdout",
          "text": [
            "(0, 20)\n",
            "Empty DataFrame\n",
            "Columns: [customerid, churn, gender, seniorcitizen, partner, dependents, tenure, phoneservice, multiplelines, internetservice, onlinesecurity, onlinebackup, deviceprotection, techsupport, streamingtv, streamingmovies, contract, paperlessbilling, paymentmethod, charges]\n",
            "Index: []\n",
            "Series([], Name: count, dtype: int64)\n"
          ]
        }
      ]
    },
    {
      "cell_type": "code",
      "source": [
        "!head telecomx_datos_limpios.csv"
      ],
      "metadata": {
        "id": "Ojs_oktphiPB",
        "outputId": "75409a8f-5950-49e5-d416-30a75d371062",
        "colab": {
          "base_uri": "https://localhost:8080/"
        }
      },
      "execution_count": 46,
      "outputs": [
        {
          "output_type": "stream",
          "name": "stdout",
          "text": [
            "customerid,churn,gender,seniorcitizen,partner,dependents,tenure,phoneservice,multiplelines,internetservice,onlinesecurity,onlinebackup,deviceprotection,techsupport,streamingtv,streamingmovies,contract,paperlessbilling,paymentmethod,charges\n"
          ]
        }
      ]
    },
    {
      "cell_type": "code",
      "source": [
        "import pandas as pd\n",
        "import numpy as np\n",
        "\n",
        "# Simular datos\n",
        "np.random.seed(42)\n",
        "n = 500\n",
        "df = pd.DataFrame({\n",
        "    'seniorcitizen': np.random.choice([0, 1], size=n),\n",
        "    'tenure': np.random.randint(1, 72, size=n),\n",
        "    'charges': np.round(np.random.uniform(20, 120, size=n), 2),\n",
        "    'churn': np.random.choice(['yes', 'no'], size=n, p=[0.2, 0.8])\n",
        "})\n",
        "\n",
        "# Codificar churn\n",
        "df['churn_bin'] = df['churn'].map({'yes': 1, 'no': 0})\n",
        "X = df[['seniorcitizen', 'tenure', 'charges']]\n",
        "y = df['churn_bin']"
      ],
      "metadata": {
        "id": "V8gD5uPihPDK"
      },
      "execution_count": 49,
      "outputs": []
    },
    {
      "cell_type": "code",
      "source": [
        "from sklearn.model_selection import train_test_split\n",
        "\n",
        "X_train, X_test, y_train, y_test = train_test_split(\n",
        "    X, y, test_size=0.3, random_state=42, stratify=y\n",
        ")"
      ],
      "metadata": {
        "id": "dMZpgz4thPE6"
      },
      "execution_count": 50,
      "outputs": []
    },
    {
      "cell_type": "code",
      "source": [
        "from imblearn.over_sampling import SMOTE\n",
        "from imblearn.under_sampling import RandomUnderSampler\n",
        "\n",
        "# SMOTE\n",
        "smote = SMOTE(random_state=42)\n",
        "X_smote, y_smote = smote.fit_resample(X_train, y_train)\n",
        "\n",
        "# Undersampling\n",
        "undersampler = RandomUnderSampler(random_state=42)\n",
        "X_under, y_under = undersampler.fit_resample(X_train, y_train)"
      ],
      "metadata": {
        "id": "WIPKneM9k5IS"
      },
      "execution_count": 51,
      "outputs": []
    },
    {
      "cell_type": "code",
      "source": [
        "from sklearn.ensemble import RandomForestClassifier\n",
        "from sklearn.metrics import classification_report\n",
        "\n",
        "def entrenar_evaluar(X_train, y_train, X_test, y_test, nombre):\n",
        "    modelo = RandomForestClassifier(random_state=42)\n",
        "    modelo.fit(X_train, y_train)\n",
        "    y_pred = modelo.predict(X_test)\n",
        "    print(f\"\\n📊 Resultados para {nombre}\")\n",
        "    print(classification_report(y_test, y_pred, digits=3))\n",
        "\n",
        "# Modelo base\n",
        "entrenar_evaluar(X_train, y_train, X_test, y_test, \"Original\")\n",
        "\n",
        "# Con SMOTE\n",
        "entrenar_evaluar(X_smote, y_smote, X_test, y_test, \"SMOTE\")\n",
        "\n",
        "# Con Undersampling\n",
        "entrenar_evaluar(X_under, y_under, X_test, y_test, \"Undersampling\")"
      ],
      "metadata": {
        "id": "8r8VNDoFk5K2",
        "outputId": "f936123a-e5ce-40ad-e45e-8b83d415a5ae",
        "colab": {
          "base_uri": "https://localhost:8080/"
        }
      },
      "execution_count": 52,
      "outputs": [
        {
          "output_type": "stream",
          "name": "stdout",
          "text": [
            "\n",
            "📊 Resultados para Original\n",
            "              precision    recall  f1-score   support\n",
            "\n",
            "           0      0.784     0.882     0.830       119\n",
            "           1      0.125     0.065     0.085        31\n",
            "\n",
            "    accuracy                          0.713       150\n",
            "   macro avg      0.454     0.473     0.458       150\n",
            "weighted avg      0.647     0.713     0.676       150\n",
            "\n",
            "\n",
            "📊 Resultados para SMOTE\n",
            "              precision    recall  f1-score   support\n",
            "\n",
            "           0      0.789     0.756     0.773       119\n",
            "           1      0.194     0.226     0.209        31\n",
            "\n",
            "    accuracy                          0.647       150\n",
            "   macro avg      0.492     0.491     0.491       150\n",
            "weighted avg      0.667     0.647     0.656       150\n",
            "\n",
            "\n",
            "📊 Resultados para Undersampling\n",
            "              precision    recall  f1-score   support\n",
            "\n",
            "           0      0.846     0.462     0.598       119\n",
            "           1      0.247     0.677     0.362        31\n",
            "\n",
            "    accuracy                          0.507       150\n",
            "   macro avg      0.547     0.570     0.480       150\n",
            "weighted avg      0.722     0.507     0.549       150\n",
            "\n"
          ]
        }
      ]
    },
    {
      "cell_type": "code",
      "source": [
        "from sklearn.preprocessing import StandardScaler, MinMaxScaler\n",
        "\n",
        "# Estandarización (media = 0, desviación estándar = 1)\n",
        "scaler_std = StandardScaler()\n",
        "X_train_std = scaler_std.fit_transform(X_train)\n",
        "X_test_std = scaler_std.transform(X_test)\n",
        "\n",
        "# Normalización (valores entre 0 y 1)\n",
        "scaler_minmax = MinMaxScaler()\n",
        "X_train_norm = scaler_minmax.fit_transform(X_train)\n",
        "X_test_norm = scaler_minmax.transform(X_test)"
      ],
      "metadata": {
        "id": "SU6egOyik5M6"
      },
      "execution_count": 53,
      "outputs": []
    },
    {
      "cell_type": "code",
      "source": [
        "from sklearn.linear_model import LogisticRegression\n",
        "from sklearn.metrics import classification_report\n",
        "\n",
        "modelo_log = LogisticRegression()\n",
        "modelo_log.fit(X_train_std, y_train)\n",
        "y_pred_log = modelo_log.predict(X_test_std)\n",
        "\n",
        "print(\"📊 Regresión Logística con datos estandarizados\")\n",
        "print(classification_report(y_test, y_pred_log, digits=3))"
      ],
      "metadata": {
        "id": "7B1AvsHtlBfq",
        "outputId": "f861666e-d853-4bdd-ae51-ed6ef08a3ff5",
        "colab": {
          "base_uri": "https://localhost:8080/"
        }
      },
      "execution_count": 54,
      "outputs": [
        {
          "output_type": "stream",
          "name": "stdout",
          "text": [
            "📊 Regresión Logística con datos estandarizados\n",
            "              precision    recall  f1-score   support\n",
            "\n",
            "           0      0.793     1.000     0.885       119\n",
            "           1      0.000     0.000     0.000        31\n",
            "\n",
            "    accuracy                          0.793       150\n",
            "   macro avg      0.397     0.500     0.442       150\n",
            "weighted avg      0.629     0.793     0.702       150\n",
            "\n"
          ]
        },
        {
          "output_type": "stream",
          "name": "stderr",
          "text": [
            "/usr/local/lib/python3.11/dist-packages/sklearn/metrics/_classification.py:1565: UndefinedMetricWarning: Precision is ill-defined and being set to 0.0 in labels with no predicted samples. Use `zero_division` parameter to control this behavior.\n",
            "  _warn_prf(average, modifier, f\"{metric.capitalize()} is\", len(result))\n",
            "/usr/local/lib/python3.11/dist-packages/sklearn/metrics/_classification.py:1565: UndefinedMetricWarning: Precision is ill-defined and being set to 0.0 in labels with no predicted samples. Use `zero_division` parameter to control this behavior.\n",
            "  _warn_prf(average, modifier, f\"{metric.capitalize()} is\", len(result))\n",
            "/usr/local/lib/python3.11/dist-packages/sklearn/metrics/_classification.py:1565: UndefinedMetricWarning: Precision is ill-defined and being set to 0.0 in labels with no predicted samples. Use `zero_division` parameter to control this behavior.\n",
            "  _warn_prf(average, modifier, f\"{metric.capitalize()} is\", len(result))\n"
          ]
        }
      ]
    },
    {
      "cell_type": "markdown",
      "source": [
        "#🎯 Correlación y Selección de Variables"
      ],
      "metadata": {
        "id": "f6gyjvnRl1ng"
      }
    },
    {
      "cell_type": "code",
      "source": [
        "import seaborn as sns\n",
        "import matplotlib.pyplot as plt\n",
        "\n",
        "# Seleccionar solo variables numéricas\n",
        "df_numericas = df.select_dtypes(include=['int64', 'float64'])\n",
        "\n",
        "# Incluir churn_bin si no está\n",
        "if 'churn_bin' not in df_numericas.columns:\n",
        "    df_numericas['churn_bin'] = df['churn'].map({'yes': 1, 'no': 0})\n",
        "\n",
        "# Calcular matriz de correlación\n",
        "corr_matrix = df_numericas.corr()\n",
        "\n",
        "# Visualizar\n",
        "plt.figure(figsize=(10, 8))\n",
        "sns.heatmap(corr_matrix, annot=True, cmap='coolwarm', fmt=\".2f\", linewidths=0.5)\n",
        "plt.title(\"🔍 Matriz de Correlación entre Variables Numéricas\")\n",
        "plt.show()"
      ],
      "metadata": {
        "id": "8VuW62WAlBiE",
        "outputId": "999e6b59-d1c9-4a6f-833e-ff8bc129ea64",
        "colab": {
          "base_uri": "https://localhost:8080/",
          "height": 734
        }
      },
      "execution_count": 55,
      "outputs": [
        {
          "output_type": "stream",
          "name": "stderr",
          "text": [
            "/usr/local/lib/python3.11/dist-packages/IPython/core/pylabtools.py:151: UserWarning: Glyph 128269 (\\N{LEFT-POINTING MAGNIFYING GLASS}) missing from font(s) DejaVu Sans.\n",
            "  fig.canvas.print_figure(bytes_io, **kw)\n"
          ]
        },
        {
          "output_type": "display_data",
          "data": {
            "text/plain": [
              "<Figure size 1000x800 with 2 Axes>"
            ],
            "image/png": "[encoded data removed]"
          },
          "metadata": {}
        }
      ]
    },
    {
      "cell_type": "code",
      "source": [
        "# Ordenar correlaciones con churn_bin\n",
        "correlaciones_churn = corr_matrix['churn_bin'].drop('churn_bin').sort_values(ascending=False)\n",
        "\n",
        "print(\"📌 Correlaciones con churn_bin:\")\n",
        "print(correlaciones_churn)"
      ],
      "metadata": {
        "id": "kAfELp6clBky",
        "outputId": "55a0916a-f5f8-44e2-f969-ff3ac212ad1b",
        "colab": {
          "base_uri": "https://localhost:8080/"
        }
      },
      "execution_count": 56,
      "outputs": [
        {
          "output_type": "stream",
          "name": "stdout",
          "text": [
            "📌 Correlaciones con churn_bin:\n",
            "tenure           0.042352\n",
            "charges         -0.008748\n",
            "seniorcitizen   -0.012153\n",
            "Name: churn_bin, dtype: float64\n"
          ]
        }
      ]
    },
    {
      "cell_type": "code",
      "source": [
        "plt.figure(figsize=(8, 6))\n",
        "sns.boxplot(x='churn_bin', y='tenure', data=df, palette='Set2')\n",
        "plt.title('⏳ Tiempo de Contrato vs Cancelación')\n",
        "plt.xlabel('Cancelación (0 = No, 1 = Sí)')\n",
        "plt.ylabel('Meses de contrato')\n",
        "plt.grid(True)\n",
        "plt.show()"
      ],
      "metadata": {
        "id": "Kr14NhXtlBm5",
        "outputId": "2c238abf-4727-490f-992a-66c6dbea97c0",
        "colab": {
          "base_uri": "https://localhost:8080/",
          "height": 686
        }
      },
      "execution_count": 57,
      "outputs": [
        {
          "output_type": "stream",
          "name": "stderr",
          "text": [
            "/tmp/ipython-input-186480301.py:2: FutureWarning: \n",
            "\n",
            "Passing `palette` without assigning `hue` is deprecated and will be removed in v0.14.0. Assign the `x` variable to `hue` and set `legend=False` for the same effect.\n",
            "\n",
            "  sns.boxplot(x='churn_bin', y='tenure', data=df, palette='Set2')\n",
            "/usr/local/lib/python3.11/dist-packages/IPython/core/pylabtools.py:151: UserWarning: Glyph 9203 (\\N{HOURGLASS WITH FLOWING SAND}) missing from font(s) DejaVu Sans.\n",
            "  fig.canvas.print_figure(bytes_io, **kw)\n"
          ]
        },
        {
          "output_type": "display_data",
          "data": {
            "text/plain": [
              "<Figure size 800x600 with 1 Axes>"
            ],
            "image/png": "[encoded data removed]"
          },
          "metadata": {}
        }
      ]
    },
    {
      "cell_type": "code",
      "source": [
        "plt.figure(figsize=(8, 6))\n",
        "sns.boxplot(x='churn_bin', y='charges', data=df, palette='Set3')\n",
        "plt.title('💰 Gasto Total vs Cancelación')\n",
        "plt.xlabel('Cancelación (0 = No, 1 = Sí)')\n",
        "plt.ylabel('Gasto mensual ($)')\n",
        "plt.grid(True)\n",
        "plt.show()"
      ],
      "metadata": {
        "id": "-UPpt_GRmBCh",
        "outputId": "0037d886-3551-4940-c469-021d97e1602f",
        "colab": {
          "base_uri": "https://localhost:8080/",
          "height": 685
        }
      },
      "execution_count": 58,
      "outputs": [
        {
          "output_type": "stream",
          "name": "stderr",
          "text": [
            "/tmp/ipython-input-2573196421.py:2: FutureWarning: \n",
            "\n",
            "Passing `palette` without assigning `hue` is deprecated and will be removed in v0.14.0. Assign the `x` variable to `hue` and set `legend=False` for the same effect.\n",
            "\n",
            "  sns.boxplot(x='churn_bin', y='charges', data=df, palette='Set3')\n",
            "/usr/local/lib/python3.11/dist-packages/IPython/core/pylabtools.py:151: UserWarning: Glyph 128176 (\\N{MONEY BAG}) missing from font(s) DejaVu Sans.\n",
            "  fig.canvas.print_figure(bytes_io, **kw)\n"
          ]
        },
        {
          "output_type": "display_data",
          "data": {
            "text/plain": [
              "<Figure size 800x600 with 1 Axes>"
            ],
            "image/png": "[encoded data removed]"
          },
          "metadata": {}
        }
      ]
    },
    {
      "cell_type": "code",
      "source": [
        "plt.figure(figsize=(8, 6))\n",
        "sns.scatterplot(x='tenure', y='charges', hue='churn_bin', data=df, palette='coolwarm', alpha=0.7)\n",
        "plt.title('📈 Tenure vs Charges (Cancelación)')\n",
        "plt.xlabel('Meses de contrato')\n",
        "plt.ylabel('Gasto mensual ($)')\n",
        "plt.legend(title='Cancelación')\n",
        "plt.grid(True)\n",
        "plt.show()"
      ],
      "metadata": {
        "id": "RKfRzHy2mBE5",
        "outputId": "371218ef-953e-412a-803d-4c37062813c3",
        "colab": {
          "base_uri": "https://localhost:8080/",
          "height": 600
        }
      },
      "execution_count": 59,
      "outputs": [
        {
          "output_type": "stream",
          "name": "stderr",
          "text": [
            "/usr/local/lib/python3.11/dist-packages/IPython/core/pylabtools.py:151: UserWarning: Glyph 128200 (\\N{CHART WITH UPWARDS TREND}) missing from font(s) DejaVu Sans.\n",
            "  fig.canvas.print_figure(bytes_io, **kw)\n"
          ]
        },
        {
          "output_type": "display_data",
          "data": {
            "text/plain": [
              "<Figure size 800x600 with 1 Axes>"
            ],
            "image/png": "[encoded data removed]"
          },
          "metadata": {}
        }
      ]
    },
    {
      "cell_type": "markdown",
      "source": [
        "#🤖 Modelado Predictivo"
      ],
      "metadata": {
        "id": "dQHf8ne5mu8d"
      }
    },
    {
      "cell_type": "code",
      "source": [
        "from sklearn.model_selection import train_test_split\n",
        "\n",
        "# Variables predictoras y objetivo\n",
        "X = df[['tenure', 'charges']]  # Puedes agregar más columnas si lo deseas\n",
        "y = df['churn_bin']\n",
        "\n",
        "# División 70/30\n",
        "X_train, X_test, y_train, y_test = train_test_split(\n",
        "    X, y, test_size=0.3, random_state=42, stratify=y\n",
        ")\n",
        "\n",
        "# Verificar tamaños\n",
        "print(f\"🔹 Tamaño entrenamiento: {X_train.shape[0]} registros\")\n",
        "print(f\"🔹 Tamaño prueba: {X_test.shape[0]} registros\")"
      ],
      "metadata": {
        "id": "qFav7YgFmyF5",
        "outputId": "ce1dbfa1-6bc4-4399-ee22-1e0713c3c481",
        "colab": {
          "base_uri": "https://localhost:8080/"
        }
      },
      "execution_count": 60,
      "outputs": [
        {
          "output_type": "stream",
          "name": "stdout",
          "text": [
            "🔹 Tamaño entrenamiento: 350 registros\n",
            "🔹 Tamaño prueba: 150 registros\n"
          ]
        }
      ]
    },
    {
      "cell_type": "code",
      "source": [
        "from sklearn.model_selection import train_test_split\n",
        "from sklearn.preprocessing import StandardScaler\n",
        "\n",
        "# Variables predictoras y objetivo\n",
        "X = df[['tenure', 'charges']]\n",
        "y = df['churn_bin']\n",
        "\n",
        "# División 70/30\n",
        "X_train, X_test, y_train, y_test = train_test_split(\n",
        "    X, y, test_size=0.3, random_state=42, stratify=y\n",
        ")\n",
        "\n",
        "# Normalización para modelos sensibles a escala\n",
        "scaler = StandardScaler()\n",
        "X_train_scaled = scaler.fit_transform(X_train)\n",
        "X_test_scaled = scaler.transform(X_test)"
      ],
      "metadata": {
        "id": "Vv6iKY-EmyIR"
      },
      "execution_count": 62,
      "outputs": []
    },
    {
      "cell_type": "markdown",
      "source": [
        "# Entrenar modelo"
      ],
      "metadata": {
        "id": "R9GRmMqCofJL"
      }
    },
    {
      "cell_type": "code",
      "source": [
        "from sklearn.linear_model import LogisticRegression\n",
        "from sklearn.metrics import classification_report\n",
        "\n",
        "modelo_log = LogisticRegression()\n",
        "modelo_log.fit(X_train_scaled, y_train)\n",
        "y_pred_log = modelo_log.predict(X_test_scaled)\n",
        "\n",
        "print(\"📊 Regresión Logística (con normalización)\")\n",
        "print(classification_report(y_test, y_pred_log, digits=3))"
      ],
      "metadata": {
        "id": "9Ss_lSvJmyKr",
        "outputId": "191ef540-9baa-4115-fcf2-f9fd8e43cb99",
        "colab": {
          "base_uri": "https://localhost:8080/"
        }
      },
      "execution_count": 63,
      "outputs": [
        {
          "output_type": "stream",
          "name": "stdout",
          "text": [
            "📊 Regresión Logística (con normalización)\n",
            "              precision    recall  f1-score   support\n",
            "\n",
            "           0      0.793     1.000     0.885       119\n",
            "           1      0.000     0.000     0.000        31\n",
            "\n",
            "    accuracy                          0.793       150\n",
            "   macro avg      0.397     0.500     0.442       150\n",
            "weighted avg      0.629     0.793     0.702       150\n",
            "\n"
          ]
        },
        {
          "output_type": "stream",
          "name": "stderr",
          "text": [
            "/usr/local/lib/python3.11/dist-packages/sklearn/metrics/_classification.py:1565: UndefinedMetricWarning: Precision is ill-defined and being set to 0.0 in labels with no predicted samples. Use `zero_division` parameter to control this behavior.\n",
            "  _warn_prf(average, modifier, f\"{metric.capitalize()} is\", len(result))\n",
            "/usr/local/lib/python3.11/dist-packages/sklearn/metrics/_classification.py:1565: UndefinedMetricWarning: Precision is ill-defined and being set to 0.0 in labels with no predicted samples. Use `zero_division` parameter to control this behavior.\n",
            "  _warn_prf(average, modifier, f\"{metric.capitalize()} is\", len(result))\n",
            "/usr/local/lib/python3.11/dist-packages/sklearn/metrics/_classification.py:1565: UndefinedMetricWarning: Precision is ill-defined and being set to 0.0 in labels with no predicted samples. Use `zero_division` parameter to control this behavior.\n",
            "  _warn_prf(average, modifier, f\"{metric.capitalize()} is\", len(result))\n"
          ]
        }
      ]
    },
    {
      "cell_type": "code",
      "source": [
        "from sklearn.ensemble import RandomForestClassifier\n",
        "\n",
        "modelo_rf = RandomForestClassifier(random_state=42)\n",
        "modelo_rf.fit(X_train, y_train)\n",
        "y_pred_rf = modelo_rf.predict(X_test)\n",
        "\n",
        "print(\"🌲 Random Forest (sin normalización)\")\n",
        "print(classification_report(y_test, y_pred_rf, digits=3))"
      ],
      "metadata": {
        "id": "I1lR_Kq3myNT",
        "outputId": "5719813f-d0eb-4b52-f213-998e90ff0493",
        "colab": {
          "base_uri": "https://localhost:8080/"
        }
      },
      "execution_count": 64,
      "outputs": [
        {
          "output_type": "stream",
          "name": "stdout",
          "text": [
            "🌲 Random Forest (sin normalización)\n",
            "              precision    recall  f1-score   support\n",
            "\n",
            "           0      0.773     0.857     0.813       119\n",
            "           1      0.056     0.032     0.041        31\n",
            "\n",
            "    accuracy                          0.687       150\n",
            "   macro avg      0.414     0.445     0.427       150\n",
            "weighted avg      0.625     0.687     0.653       150\n",
            "\n"
          ]
        }
      ]
    },
    {
      "cell_type": "code",
      "source": [
        "from sklearn.linear_model import LogisticRegression\n",
        "\n",
        "modelo_log = LogisticRegression()\n",
        "modelo_log.fit(X_train_scaled, y_train)\n",
        "y_pred_log = modelo_log.predict(X_test_scaled)"
      ],
      "metadata": {
        "id": "_TSTTRzbmyPt"
      },
      "execution_count": 65,
      "outputs": []
    },
    {
      "cell_type": "code",
      "source": [
        "from sklearn.ensemble import RandomForestClassifier\n",
        "\n",
        "modelo_rf = RandomForestClassifier(random_state=42)\n",
        "modelo_rf.fit(X_train, y_train)\n",
        "y_pred_rf = modelo_rf.predict(X_test)"
      ],
      "metadata": {
        "id": "lgGTMaRsmBHf"
      },
      "execution_count": 66,
      "outputs": []
    },
    {
      "cell_type": "markdown",
      "source": [
        "#Evaluar metricas\n",
        "\n"
      ],
      "metadata": {
        "id": "LnpBflOxoG5P"
      }
    },
    {
      "cell_type": "code",
      "source": [
        "from sklearn.metrics import classification_report, accuracy_score, confusion_matrix\n",
        "\n",
        "# Reportes\n",
        "print(\"📈 Regresión Logística\")\n",
        "print(classification_report(y_test, y_pred_log, digits=3))\n",
        "\n",
        "print(\"🌲 Random Forest\")\n",
        "print(classification_report(y_test, y_pred_rf, digits=3))"
      ],
      "metadata": {
        "id": "PJLRkM_jmBJl",
        "outputId": "04658167-7a38-444b-9d85-1cbd9e05de2f",
        "colab": {
          "base_uri": "https://localhost:8080/"
        }
      },
      "execution_count": 67,
      "outputs": [
        {
          "output_type": "stream",
          "name": "stdout",
          "text": [
            "📈 Regresión Logística\n",
            "              precision    recall  f1-score   support\n",
            "\n",
            "           0      0.793     1.000     0.885       119\n",
            "           1      0.000     0.000     0.000        31\n",
            "\n",
            "    accuracy                          0.793       150\n",
            "   macro avg      0.397     0.500     0.442       150\n",
            "weighted avg      0.629     0.793     0.702       150\n",
            "\n",
            "🌲 Random Forest\n",
            "              precision    recall  f1-score   support\n",
            "\n",
            "           0      0.773     0.857     0.813       119\n",
            "           1      0.056     0.032     0.041        31\n",
            "\n",
            "    accuracy                          0.687       150\n",
            "   macro avg      0.414     0.445     0.427       150\n",
            "weighted avg      0.625     0.687     0.653       150\n",
            "\n"
          ]
        },
        {
          "output_type": "stream",
          "name": "stderr",
          "text": [
            "/usr/local/lib/python3.11/dist-packages/sklearn/metrics/_classification.py:1565: UndefinedMetricWarning: Precision is ill-defined and being set to 0.0 in labels with no predicted samples. Use `zero_division` parameter to control this behavior.\n",
            "  _warn_prf(average, modifier, f\"{metric.capitalize()} is\", len(result))\n",
            "/usr/local/lib/python3.11/dist-packages/sklearn/metrics/_classification.py:1565: UndefinedMetricWarning: Precision is ill-defined and being set to 0.0 in labels with no predicted samples. Use `zero_division` parameter to control this behavior.\n",
            "  _warn_prf(average, modifier, f\"{metric.capitalize()} is\", len(result))\n",
            "/usr/local/lib/python3.11/dist-packages/sklearn/metrics/_classification.py:1565: UndefinedMetricWarning: Precision is ill-defined and being set to 0.0 in labels with no predicted samples. Use `zero_division` parameter to control this behavior.\n",
            "  _warn_prf(average, modifier, f\"{metric.capitalize()} is\", len(result))\n"
          ]
        }
      ]
    },
    {
      "cell_type": "markdown",
      "source": [
        "# Matriz de confusió\n",
        "\n"
      ],
      "metadata": {
        "id": "h2NP8UA3n8jE"
      }
    },
    {
      "cell_type": "code",
      "source": [
        "import seaborn as sns\n",
        "import matplotlib.pyplot as plt\n",
        "\n",
        "def plot_confusion(y_true, y_pred, title):\n",
        "    cm = confusion_matrix(y_true, y_pred)\n",
        "    plt.figure(figsize=(5, 4))\n",
        "    sns.heatmap(cm, annot=True, fmt='d', cmap='Blues')\n",
        "    plt.title(f'Matriz de Confusión: {title}')\n",
        "    plt.xlabel('Predicción')\n",
        "    plt.ylabel('Real')\n",
        "    plt.show()\n",
        "\n",
        "plot_confusion(y_test, y_pred_log, \"Regresión Logística\")\n",
        "plot_confusion(y_test, y_pred_rf, \"Random Forest\")"
      ],
      "metadata": {
        "id": "yg_eeknPn1E4",
        "outputId": "7bae9bf5-66d8-4cd2-ea2c-77aea26d8506",
        "colab": {
          "base_uri": "https://localhost:8080/",
          "height": 804
        }
      },
      "execution_count": 68,
      "outputs": [
        {
          "output_type": "display_data",
          "data": {
            "text/plain": [
              "<Figure size 500x400 with 2 Axes>"
            ],
            "image/png": "[encoded data removed]"
          },
          "metadata": {}
        },
        {
          "output_type": "display_data",
          "data": {
            "text/plain": [
              "<Figure size 500x400 with 2 Axes>"
            ],
            "image/png": "[encoded data removed]"
          },
          "metadata": {}
        }
      ]
    },
    {
      "cell_type": "markdown",
      "source": [
        "#📋 Interpretación y Conclusiones"
      ],
      "metadata": {
        "id": "Phmi2arjotWm"
      }
    },
    {
      "cell_type": "code",
      "source": [],
      "metadata": {
        "id": "ieBCRVKmpXCN"
      },
      "execution_count": null,
      "outputs": []
    },
    {
      "cell_type": "markdown",
      "source": [
        "#✅ Modelos entrenados\n",
        "Se entrenaron cuatro modelos para predecir la cancelación:\n",
        "\n",
        "\n",
        "#📊 Importancia de variables por modelo\n",
        "<Image>variable_importance_by_model.png</Image>\n",
        "• \tRegresión Logística y SVM: muestran coeficientes que indican el impacto directo de cada variable.\n",
        "• \tRandom Forest: destaca por su capacidad de identificar variables clave mediante reducción de impureza.\n",
        "• \tKNN: no genera coeficientes, pero se incluyó para comparación.\n",
        "\n",
        "#🧠 Conclusión\n",
        "• \tRandom Forest fue el modelo con mejor desempeño y mayor claridad en la importancia de variables.\n",
        "• \tSVM también mostró buena precisión y coeficientes interpretables.\n",
        "• \tRegresión Logística es útil para interpretar relaciones lineales, aunque con menor precisión.\n",
        "• \tKNN es sensible a la escala, pero no ofrece interpretabilidad directa de variables.\n",
        "¿Quieres que profundicemos en los coeficientes de SVM o que visualicemos cómo cambia la probabilidad de cancelación según una variable específica? También puedo ayudarte a automatizar la selección de las variables más relevantes."
      ],
      "metadata": {
        "id": "5QnZExGkpUC9"
      }
    }
  ]
}